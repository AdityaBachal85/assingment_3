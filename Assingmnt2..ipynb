{
 "cells": [
  {
   "cell_type": "raw",
   "id": "1630fdd1-e0ec-4498-8b2a-33c88b1a1ab9",
   "metadata": {},
   "source": [
    "Q.1\n",
    "In Python, the keyword used to create a function is def. "
   ]
  },
  {
   "cell_type": "code",
   "execution_count": 3,
   "id": "e95db313-abed-47c6-949a-a3794028ba37",
   "metadata": {},
   "outputs": [
    {
     "name": "stdout",
     "output_type": "stream",
     "text": [
      "[1, 3, 5, 7, 9, 11, 13, 15, 17, 19, 21, 23, 25]\n"
     ]
    }
   ],
   "source": [
    "def get_odd_numbers():\n",
    "    odd_numbers = []\n",
    "    for number in range(1, 26):\n",
    "        if number % 2 != 0:\n",
    "            odd_numbers.append(number)\n",
    "    return odd_numbers\n",
    "\n",
    "# Call the function and print the result\n",
    "result = get_odd_numbers()\n",
    "print(result)\n"
   ]
  },
  {
   "cell_type": "markdown",
   "id": "ca4da668-803d-4669-bad4-36a2ea4d5e52",
   "metadata": {},
   "source": [
    "Q.2\n",
    "*args: This syntax allows you to pass a variable number of non-keyword arguments to a function. The arguments are packed into a tuple.\n",
    "\n",
    "**kwargs: This syntax allows you to pass a variable number of keyword arguments (i.e., arguments with names) to a function. The arguments are packed into a dictionary.\n"
   ]
  },
  {
   "cell_type": "code",
   "execution_count": 5,
   "id": "78848933-7614-4e24-84b5-7023673fbc56",
   "metadata": {},
   "outputs": [
    {
     "name": "stdout",
     "output_type": "stream",
     "text": [
      "Sum using *args: 15\n",
      "name: ADITYA\n",
      "age: 30\n",
      "country: INDIA\n"
     ]
    }
   ],
   "source": [
    "# Function using *args\n",
    "def sum_numbers(*args):\n",
    "    total = 0\n",
    "    for num in args:\n",
    "        total += num\n",
    "    return total\n",
    "\n",
    "result_args = sum_numbers(1, 2, 3, 4, 5)\n",
    "print(\"Sum using *args:\", result_args)\n",
    "\n",
    "\n",
    "# Function using **kwargs\n",
    "def display_info(**kwargs):\n",
    "    for key, value in kwargs.items():\n",
    "        print(f\"{key}: {value}\")\n",
    "\n",
    "display_info(name=\"ADITYA\", age=30, country=\"INDIA\")\n"
   ]
  },
  {
   "cell_type": "markdown",
   "id": "db46913c-54e1-4422-948f-2e7e50a2f5df",
   "metadata": {},
   "source": [
    "Q.3 \n",
    "\n",
    "In Python, an iterator is an object that implements the __iter__() and __next__() methods, allowing it to traverse a sequence of elements. Iterators are used to loop through collections without needing to know the underlying data structure. They provide a way to access elements one by one, maintaining state between consecutive calls to __next__().\n",
    "\n",
    "For your specific question, you can use the built-in iter() function to create an iterator from a given list and then use the __next__() method to iterate through the list. Here's how you can achieve this:"
   ]
  },
  {
   "cell_type": "code",
   "execution_count": 6,
   "id": "7cd2dbaf-96d2-4c79-84af-4ca4fa0a1add",
   "metadata": {},
   "outputs": [
    {
     "name": "stdout",
     "output_type": "stream",
     "text": [
      "2\n",
      "4\n",
      "6\n",
      "8\n",
      "10\n"
     ]
    }
   ],
   "source": [
    "# Given list\n",
    "my_list = [2, 4, 6, 8, 10, 12, 14, 16, 18, 20]\n",
    "\n",
    "# Create an iterator object using iter()\n",
    "my_iterator = iter(my_list)\n",
    "\n",
    "# Print the first five elements using the iterator\n",
    "for _ in range(5):\n",
    "    element = next(my_iterator)\n",
    "    print(element)\n"
   ]
  },
  {
   "cell_type": "markdown",
   "id": "8ea9ec62-a37a-4d11-a360-04c8b1000721",
   "metadata": {},
   "source": [
    "Q.4\n",
    "\n",
    "\n",
    "A generator function in Python is a special type of function that allows you to create an iterator without the need to explicitly implement the __iter__() and __next__() methods. It makes use of the yield keyword to yield values one at a time, allowing the function to maintain its state across multiple calls. This is particularly useful when dealing with large datasets or infinite sequences, as generators are memory-efficient and produce values on-the-fly rather than storing them all in memory at once."
   ]
  },
  {
   "cell_type": "code",
   "execution_count": 8,
   "id": "44cf51e0-dbe7-49c3-b84a-cd2ed7f51312",
   "metadata": {},
   "outputs": [
    {
     "name": "stdout",
     "output_type": "stream",
     "text": [
      "0\n",
      "1\n",
      "4\n",
      "9\n",
      "16\n",
      "25\n",
      "36\n",
      "49\n",
      "64\n",
      "81\n",
      "100\n"
     ]
    }
   ],
   "source": [
    "def generate_squares(n):\n",
    "    for i in range(n):\n",
    "        yield i ** 2\n",
    "\n",
    "# Create a generator object\n",
    "squares_generator = generate_squares(11)\n",
    "\n",
    "# Use the generator to iterate through squares\n",
    "for square in squares_generator:\n",
    "    print(square)\n"
   ]
  },
  {
   "cell_type": "code",
   "execution_count": null,
   "id": "a01392a1-1014-49a6-b038-0053cc823d9f",
   "metadata": {},
   "outputs": [],
   "source": []
  },
  {
   "cell_type": "markdown",
   "id": "57ed135d-9f0b-4ef2-825c-4243665266bf",
   "metadata": {},
   "source": [
    "Q.5\n"
   ]
  },
  {
   "cell_type": "code",
   "execution_count": 9,
   "id": "7a6604c4-f914-4711-b2a2-ea9273cee68d",
   "metadata": {},
   "outputs": [
    {
     "name": "stdout",
     "output_type": "stream",
     "text": [
      "2\n",
      "3\n",
      "5\n",
      "7\n",
      "11\n",
      "13\n",
      "17\n",
      "19\n",
      "23\n",
      "29\n",
      "31\n",
      "37\n",
      "41\n",
      "43\n",
      "47\n",
      "53\n",
      "59\n",
      "61\n",
      "67\n",
      "71\n"
     ]
    }
   ],
   "source": [
    "def is_prime(num):\n",
    "    if num <= 1:\n",
    "        return False\n",
    "    if num <= 3:\n",
    "        return True\n",
    "    if num % 2 == 0 or num % 3 == 0:\n",
    "        return False\n",
    "    i = 5\n",
    "    while i * i <= num:\n",
    "        if num % i == 0 or num % (i + 2) == 0:\n",
    "            return False\n",
    "        i += 6\n",
    "    return True\n",
    "\n",
    "def generate_primes(limit):\n",
    "    num = 2\n",
    "    while num < limit:\n",
    "        if is_prime(num):\n",
    "            yield num\n",
    "        num += 1\n",
    "\n",
    "# Create a generator object for prime numbers less than 1000\n",
    "prime_generator = generate_primes(1000)\n",
    "\n",
    "# Print the first 20 prime numbers\n",
    "for _ in range(20):\n",
    "    prime = next(prime_generator)\n",
    "    print(prime)\n"
   ]
  },
  {
   "cell_type": "code",
   "execution_count": null,
   "id": "402abeb3-4f1c-4a8e-94aa-16b3904a486c",
   "metadata": {},
   "outputs": [],
   "source": []
  }
 ],
 "metadata": {
  "kernelspec": {
   "display_name": "Python 3 (ipykernel)",
   "language": "python",
   "name": "python3"
  },
  "language_info": {
   "codemirror_mode": {
    "name": "ipython",
    "version": 3
   },
   "file_extension": ".py",
   "mimetype": "text/x-python",
   "name": "python",
   "nbconvert_exporter": "python",
   "pygments_lexer": "ipython3",
   "version": "3.10.8"
  }
 },
 "nbformat": 4,
 "nbformat_minor": 5
}
